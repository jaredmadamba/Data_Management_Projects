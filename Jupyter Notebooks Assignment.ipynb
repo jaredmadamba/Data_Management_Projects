{
 "cells": [
  {
   "cell_type": "code",
   "execution_count": 23,
   "metadata": {},
   "outputs": [],
   "source": [
    "# Imports\n",
    "import re\n",
    "import certifi\n",
    "import urllib3\n",
    "import pandas as pd"
   ]
  },
  {
   "cell_type": "code",
   "execution_count": 33,
   "metadata": {},
   "outputs": [
    {
     "name": "stdout",
     "output_type": "stream",
     "text": [
      "Request Successful: True\n",
      "Characters Scraped: 512496\n"
     ]
    }
   ],
   "source": [
    "# Web Scrape\n",
    "\n",
    "# Setting up Request Pool\n",
    "http = urllib3.PoolManager(ca_certs=certifi.where())\n",
    "\n",
    "link = \"https://www.metacritic.com/browse/movies/score/metascore/year/filtered?year_selected=2014\"\n",
    "\n",
    "# Personal User Agent. Prevents looping during web scraping...I hope\n",
    "user_agent = \"Mozilla/5.0 (Windows NT 10.0; Win64; x64) Chrome/109.0.0.0 Safari/537.36\"\n",
    "\n",
    "# Web Request\n",
    "r = http.request('GET', link, headers={\"User-Agent\": user_agent})\n",
    "\n",
    "# Convert Data to Usable Text\n",
    "webData = str(r.data, \"utf-8\")\n",
    "\n",
    "# Verify Data\n",
    "print(f\"Request Successful: {r.status == 200}\")\n",
    "print(f\"Characters Scraped: {len(webData)}\")"
   ]
  },
  {
   "cell_type": "code",
   "execution_count": 61,
   "metadata": {},
   "outputs": [
    {
     "name": "stdout",
     "output_type": "stream",
     "text": [
      "Found 100 Titles, 100 Dates, 100 Scores, 100 Summaries, 100 Images\n"
     ]
    }
   ],
   "source": [
    "# Regular Expressions. Checks the data we scraped, then puts it into respective lists.\n",
    "\n",
    "titles = list(re.findall(\"class=\\\"title\\\"><h3>(.*)<\\/h3><\\/a>\", webData))\n",
    "dates = list(re.findall(\"<span>(.*,\\s2014)<\\/span>\", webData))\n",
    "scores = list(re.findall(\"class=\\\"clamp-score-wrap\\\">\\s*<a class=\\\"metascore_anchor\\\" href=\\\".*\\\">\\n<div class=\\\"metascore_w large movie positive.*\\\">(.*)<\\/div>\", \n",
    "                         webData))\n",
    "summaries = list(re.findall(\"class=\\\"summary\\\">\\n                        (.*)\", webData))\n",
    "thumbnails = list(re.findall(\"<a href=\\\"\\/movie\\/\\S*\\\"><img src=\\\"(.*)\\\"\", webData))\n",
    "\n",
    "# Verify RegEx works. Should find 100 each.\n",
    "print(f\"Found {len(titles)} Titles, {len(dates)} Dates, {len(scores)} Scores, {len(summaries)} Summaries, {len(thumbnails)} Images\")"
   ]
  },
  {
   "cell_type": "code",
   "execution_count": 68,
   "metadata": {},
   "outputs": [
    {
     "name": "stdout",
     "output_type": "stream",
     "text": [
      "                         Title                               Date        Score                      Summary                                         Thumbnail URL                   \n",
      "1                                            Boyhood       July 11, 2014   100  Filmed over 12 years with the same cast, Richa...  https://static.metacritic.com/images/products/...\n",
      "2                                         Mr. Turner   December 19, 2014    94  Mr. Turner explores the last quarter century o...  https://static.metacritic.com/images/products/...\n",
      "3                                          Leviathan   December 25, 2014    92  Kolia lives in a small town near the Barents S...  https://static.metacritic.com/images/products/...\n",
      "4                                                Ida         May 2, 2014    91  Poland, 1962. Anna (Agata Trzebuchowska), an e...  https://static.metacritic.com/images/products/...\n",
      "5                                            Big Men      March 14, 2014    90  Big Men looks at the corruption in the oil ind...  https://static.metacritic.com/images/products/...\n",
      "6                                   The Overnighters    October 10, 2014    89  In the tiny town of Williston, North Dakota, t...  https://static.metacritic.com/images/products/...\n",
      "7                                   National Gallery    November 5, 2014    89  The National Gallery in London is one of the g...  https://static.metacritic.com/images/products/...\n",
      "8                                           Whiplash    October 10, 2014    89  Andrew Neyman (Miles Teller), a young jazz dru...  https://static.metacritic.com/images/products/...\n",
      "9                    The Tale of The Princess Kaguya    October 17, 2014    89  Found inside a shining stalk of bamboo by an o...  https://static.metacritic.com/images/products/...\n",
      "10                               Two Days, One Night   December 24, 2014    89  Sandra (Marion Cotillard) has just returned to...  https://static.metacritic.com/images/products/...\n",
      "11                            Manuscripts Don't Burn       June 13, 2014    88  Clandestinely produced in disavowal of a 20-ye...  https://static.metacritic.com/images/products/...\n",
      "12                          The Grand Budapest Hotel       March 7, 2014    88  The Grand Budapest Hotel recounts the adventur...  https://static.metacritic.com/images/products/...\n",
      "13                                      Winter Sleep   December 19, 2014    88  Aydin (Haluk Bilginer), a former actor, runs a...  https://static.metacritic.com/images/products/...\n",
      "14                                       Citizenfour    October 24, 2014    88  In January 2013, filmmaker Laura Poitras was i...  https://static.metacritic.com/images/products/...\n",
      "15   Birdman or (The Unexpected Virtue of Ignorance)    October 17, 2014    87  An actor (Michael Keaton)—famous for portrayin...  https://static.metacritic.com/images/products/...\n",
      "16                                  We Are the Best!        May 30, 2014    87  Three girls in 1980’s Stockholm decide to form...  https://static.metacritic.com/images/products/...\n",
      "17                                    Particle Fever       March 5, 2014    87  For the first time, a film gives audiences a f...  https://static.metacritic.com/images/products/...\n",
      "18                                       Life Itself        July 4, 2014    87  In 2013, we lost Roger Ebert—arguably the nati...  https://static.metacritic.com/images/products/...\n",
      "19                                     Force Majeure    October 24, 2014    87  A Swedish family travels to the French Alps to...  https://static.metacritic.com/images/products/...\n",
      "20                  Stand Clear of the Closing Doors        May 23, 2014    86  The story of an autistic youth named Ricky who...  https://static.metacritic.com/images/products/...\n",
      "21                              Last Days in Vietnam   September 5, 2014    86  During the chaotic final days of the Vietnam W...  https://static.metacritic.com/images/products/...\n",
      "22                                      The Babadook   November 28, 2014    86  Six years after the violent death of her husba...  https://static.metacritic.com/images/products/...\n",
      "23                                        Manakamana      April 18, 2014    86  High above a jungle in Nepal, pilgrims make an...  https://static.metacritic.com/images/products/...\n",
      "24                                            Maidan   December 12, 2014    86  Maidan chronicles the civil uprising that topp...  https://static.metacritic.com/images/products/...\n",
      "25                                Ernest & Célestine   February 28, 2014    86  Deep below snowy, cobblestone streets, tucked ...  https://static.metacritic.com/images/products/...\n",
      "26                                   Song of the Sea   December 19, 2014    85  Ben and his little sister Saoirse, the last Se...  https://static.metacritic.com/images/products/...\n",
      "27                                           Ilo Ilo       April 4, 2014    85  Set in Singapore during the 1997 Asian financi...  https://static.metacritic.com/images/products/...\n",
      "28                                   Night Will Fall   November 21, 2014    85  Researchers discover film footage from World W...  https://static.metacritic.com/images/products/...\n",
      "29                         Tales of the Grim Sleeper   December 26, 2014    85  Nick Broomfield digs into the case of the noto...  https://static.metacritic.com/images/products/...\n",
      "30                               Watchers of the Sky    October 17, 2014    85  Watchers of the Sky interweaves four stories o...  https://static.metacritic.com/images/products/...\n",
      "31                                       Snowpiercer       June 27, 2014    84  In a future where a failed global-warming expe...  https://static.metacritic.com/images/products/...\n",
      "32                                        Stray Dogs  September 12, 2014    84  A father and his two children wander the margi...  https://static.metacritic.com/images/products/...\n",
      "33                                    The LEGO Movie    February 7, 2014    83  An ordinary LEGO minifigure, mistakenly though...  https://static.metacritic.com/images/products/...\n",
      "34                                            Gloria    January 24, 2014    83  Gloria is a \"woman of a certain age\" but still...  https://static.metacritic.com/images/products/...\n",
      "35                                      Burning Bush       June 11, 2014    83  In protest of the Soviet occupation, Jan Palac...  https://static.metacritic.com/images/products/...\n",
      "36                                          Red Army   November 14, 2014    83  Red Army is about the Soviet Union and the mos...  https://static.metacritic.com/images/products/...\n",
      "37                              20,000 Days on Earth  September 17, 2014    83  Drama and reality combine in a fictitious 24 h...  https://static.metacritic.com/images/products/...\n",
      "38                                    Levitated Mass   September 5, 2014    82  Prominently displayed outside the Los Angeles ...  https://static.metacritic.com/images/products/...\n",
      "39                                Flamenco, Flamenco   November 21, 2014    82  Director Carlos Saura and cinematographer Vitt...  https://static.metacritic.com/images/products/...\n",
      "40                                       Archipelago       June 27, 2014    82  Edward (Tom Hiddleston) is preparing to leave ...  https://static.metacritic.com/images/products/...\n",
      "41                                   Love Is Strange     August 22, 2014    82  Ben (John Lithgow) and George (Alfred Molina) ...  https://static.metacritic.com/images/products/...\n",
      "42                              Stranger by the Lake    January 24, 2014    82  Frank (Pierre Deladonchamps) spends his summer...  https://static.metacritic.com/images/products/...\n",
      "43                                             Elena        May 30, 2014    81  Elena, a young Brazilian woman, travels to New...  https://static.metacritic.com/images/products/...\n",
      "44                                          Top Five   December 12, 2014    81  New York City comedian-turned-movie star Andre...  https://static.metacritic.com/images/products/...\n",
      "45                                             Locke      April 25, 2014    81  Ivan Locke has worked hard to craft a good lif...  https://static.metacritic.com/images/products/...\n",
      "46                                        Foxcatcher   November 14, 2014    81  Foxcatcher tells the true story of Olympic Wre...  https://static.metacritic.com/images/products/...\n",
      "47                                     Inherent Vice   December 12, 2014    81  When private eye Doc Sportello’s ex-old lady s...  https://static.metacritic.com/images/products/...\n",
      "48                                          Wrinkles        July 4, 2014    81  Wrinkles portrays the friendship between Emili...  https://static.metacritic.com/images/products/...\n",
      "49                  A Girl Walks Home Alone at Night   November 21, 2014    81  In the Iranian ghost-town Bad City, a place th...  https://static.metacritic.com/images/products/...\n",
      "50                                    Closed Curtain        July 9, 2014    81  In a secluded house by the sea with the curtai...  https://static.metacritic.com/images/products/...\n",
      "51                                   The Empty Hours       July 11, 2014    81  On the desolated coast of Veracruz, 17 year-ol...  https://static.metacritic.com/images/products/...\n",
      "52                                        Starred Up     August 27, 2014    81  19-year-old Eric (Jack O'Connell) is premature...  https://static.metacritic.com/images/products/...\n",
      "53                         Norte, the End of History       June 20, 2014    81  An embittered law student commits a brutal dou...  https://static.metacritic.com/images/products/...\n",
      "54                          Elaine Stritch: Shoot Me   February 21, 2014    81  Now in her late 80s, Broadway legend Elaine St...  https://static.metacritic.com/images/products/...\n",
      "55                                    Under the Skin       April 4, 2014    80  An alien seductress (Scarlett Johansson) preys...  https://static.metacritic.com/images/products/...\n",
      "56                  She's Beautiful When She's Angry    December 5, 2014    80  From the founding of NOW, with ladies in hats ...  https://static.metacritic.com/images/products/...\n",
      "57                               Concerning Violence    December 5, 2014    80  From the director of The Black Power Mixtape c...  https://static.metacritic.com/images/products/...\n",
      "58                            The Strange Little Cat      August 1, 2014    80  A seemingly unspectacular family get-together ...  https://static.metacritic.com/images/products/...\n",
      "59                         Glen Campbell: I'll Be Me    October 24, 2014    79  In 2011, music legend Glen Campbell set out on...  https://static.metacritic.com/images/products/...\n",
      "60                                             Pride  September 26, 2014    79  It’s the summer of 1984. Margaret Thatcher is ...  https://static.metacritic.com/images/products/...\n",
      "61                               A Most Violent Year   December 31, 2014    79  In New York City during the winter of 1981, st...  https://static.metacritic.com/images/products/...\n",
      "62                                         Gone Girl     October 3, 2014    79  On the occasion of his fifth wedding anniversa...  https://static.metacritic.com/images/products/...\n",
      "63                                         Policeman       June 13, 2014    79  Yaron, an elite special operations squad leade...  https://static.metacritic.com/images/products/...\n",
      "64                                 Dear White People    October 17, 2014    79  At prestigious Winchester University, biracial...  https://static.metacritic.com/images/products/...\n",
      "65                                 Jodorowsky's Dune      March 21, 2014    79  The story of cult film director Alejandro Jodo...  https://static.metacritic.com/images/products/...\n",
      "66                            Only Lovers Left Alive      April 11, 2014    79  Adam and Eve have been lovers for centuries. B...  https://static.metacritic.com/images/products/...\n",
      "67                                             Selma   December 25, 2014    79  In 1965, Dr. Martin Luther King, Jr. (David Oy...  https://static.metacritic.com/images/products/...\n",
      "68                    Dawn of the Planet of the Apes       July 11, 2014    79  A growing nation of genetically evolved apes l...  https://static.metacritic.com/images/products/...\n",
      "69                                For Those in Peril     October 3, 2014    79  Aaron (George MacKay), a young misfit in a rem...  https://static.metacritic.com/images/products/...\n",
      "70                               Rocks in My Pockets   September 3, 2014    78  Fighting for her sanity, Signe Baumane uses wi...  https://static.metacritic.com/images/products/...\n",
      "71                                       Born to Fly  September 10, 2014    78  Elizabeth Streb and the STREB Extreme Action C...  https://static.metacritic.com/images/products/...\n",
      "72                                         Blue Ruin      April 25, 2014    78  A beach bum finds his quiet life upended by dr...  https://static.metacritic.com/images/products/...\n",
      "73                                            Tracks  September 19, 2014    78  Robyn Davidson (Mia Wasikowska) treks 1,700 mi...  https://static.metacritic.com/images/products/...\n",
      "74                                The Case Against 8        June 6, 2014    78  The Case Against 8 takes a riveting, inside lo...  https://static.metacritic.com/images/products/...\n",
      "75                                 Abuse of Weakness     August 15, 2014    77  A stroke-afflicted filmmaker (Isabelle Huppert...  https://static.metacritic.com/images/products/...\n",
      "76                                          Wetlands   September 5, 2014    77  Eighteen year-old Helen Memel (Carla Juri) lik...  https://static.metacritic.com/images/products/...\n",
      "77                Expedition to the End of the World     August 20, 2014    77  On a three-mast schooner packed with artists, ...  https://static.metacritic.com/images/products/...\n",
      "78                             Revenge of the Mekons    October 29, 2014    77  Born out of the 1977 British punk scene, the M...  https://static.metacritic.com/images/products/...\n",
      "79                                      Child's Pose   February 19, 2014    77  When her son is implicated in a hit and run ac...  https://static.metacritic.com/images/products/...\n",
      "80                                           Calvary      August 1, 2014    77  Father James (Brendan Gleeson) is a good pries...  https://static.metacritic.com/images/products/...\n",
      "81                                Keep On Keepin' On  September 19, 2014    77  In Keep On Keepin’ On, a 23-year-old, blind pi...  https://static.metacritic.com/images/products/...\n",
      "82                                     The Immigrant        May 16, 2014    77  1921. In search of a new start and the America...  https://static.metacritic.com/images/products/...\n",
      "83                                        Code Black       June 20, 2014    77  In his vivid and thought-provoking filmmaking ...  https://static.metacritic.com/images/products/...\n",
      "84                        How to Train Your Dragon 2       June 13, 2014    77  It's been five years since Hiccup and Toothles...  https://static.metacritic.com/images/products/...\n",
      "85                         Fifi Howls from Happiness      August 8, 2014    76  Mitra Farahani’s lyrical documentary explores ...  https://static.metacritic.com/images/products/...\n",
      "86                           Guardians of the Galaxy      August 1, 2014    76  Brash adventurer Peter Quill finds himself the...  https://static.metacritic.com/images/products/...\n",
      "87                                           Actress    November 7, 2014    76  Brandy Burre had a recurring role on HBO’s The...  https://static.metacritic.com/images/products/...\n",
      "88                                 It Felt Like Love      March 21, 2014    76  On the outskirts of Brooklyn, a fourteen-year-...  https://static.metacritic.com/images/products/...\n",
      "89                                      The Lunchbox   February 28, 2014    76  A mistaken delivery in Mumbai's famously effic...  https://static.metacritic.com/images/products/...\n",
      "90                                        Housebound    October 17, 2014    76  Kylie Bucknell is forced to return to the hous...  https://static.metacritic.com/images/products/...\n",
      "91                                           The Dog      August 8, 2014    76  Coming of age in the 1960s, John Wojtowicz' li...  https://static.metacritic.com/images/products/...\n",
      "92                                         The Guest  September 17, 2014    76  A soldier (Dan Stevens) introduces himself to ...  https://static.metacritic.com/images/products/...\n",
      "93                                  Listen Up Philip    October 17, 2014    76  As Philip (Jason Schwartzman) awaits the publi...  https://static.metacritic.com/images/products/...\n",
      "94                                     Horses of God        May 14, 2014    76  Ten year-old Yachine and his 13-year-old broth...  https://static.metacritic.com/images/products/...\n",
      "95           Afternoon of a Faun: Tanaquil Le Clercq    February 5, 2014    76  Of all the great ballerinas, Tanaquil Le Clerc...  https://static.metacritic.com/images/products/...\n",
      "96                              The Dance of Reality        May 23, 2014    76  After a 23-year hiatus, The Dance of Reality m...  https://static.metacritic.com/images/products/...\n",
      "97                                     Obvious Child        June 6, 2014    76  For aspiring comedian Donna Stern (Jenny Slate...  https://static.metacritic.com/images/products/...\n",
      "98                                      Nightcrawler    October 31, 2014    76  Lou Bloom (Jake Gyllenhaal), a driven young ma...  https://static.metacritic.com/images/products/...\n",
      "99                                      Happy Valley   November 19, 2014    76  Nestled in the idyllic area known as Happy Val...  https://static.metacritic.com/images/products/...\n",
      "100                                    Kids for Cash    February 7, 2014    75  Kids For Cash is a riveting look behind the no...  https://static.metacritic.com/images/products/...\n"
     ]
    }
   ],
   "source": [
    "# Data Visualization\n",
    "\n",
    "data = {'Title': titles,\n",
    "        'Date': dates,\n",
    "        'Score': scores,\n",
    "        'Summary': summaries,\n",
    "        'Thumbnail URL': thumbnails}\n",
    "\n",
    "df = pd.DataFrame(data)\n",
    "\n",
    "# Some basic styling\n",
    "df.index += 1\n",
    "pd.set_option('display.colheader_justify', 'center')\n",
    "\n",
    "print(df)"
   ]
  }
 ],
 "metadata": {
  "kernelspec": {
   "display_name": "Python 3",
   "language": "python",
   "name": "python3"
  },
  "language_info": {
   "codemirror_mode": {
    "name": "ipython",
    "version": 3
   },
   "file_extension": ".py",
   "mimetype": "text/x-python",
   "name": "python",
   "nbconvert_exporter": "python",
   "pygments_lexer": "ipython3",
   "version": "3.9.0"
  },
  "orig_nbformat": 4
 },
 "nbformat": 4,
 "nbformat_minor": 2
}
